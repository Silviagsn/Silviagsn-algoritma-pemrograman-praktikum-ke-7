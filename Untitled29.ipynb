{
 "cells": [
  {
   "cell_type": "code",
   "execution_count": 60,
   "id": "25894e0c-a9a4-43e6-8857-5575bc5963e6",
   "metadata": {},
   "outputs": [
    {
     "name": "stdin",
     "output_type": "stream",
     "text": [
      "Masukkan bilangan untuk dicek:  2.5\n"
     ]
    },
    {
     "name": "stdout",
     "output_type": "stream",
     "text": [
      "Bilangan prima\n"
     ]
    }
   ],
   "source": [
    "def cek_prima(n):\n",
    "    if n <= 1:\n",
    "        print(\"Bukan bilangan prima\")\n",
    "        return \n",
    "    \n",
    "    for i in range(2, int(n)): \n",
    "        if n % i == 0:\n",
    "            print(\"Bukan bilangan prima\")\n",
    "            return\n",
    "\n",
    "    print(\"Bilangan prima\")\n",
    "\n",
    "bilangan = float(input(\"Masukkan bilangan untuk dicek: \"))\n",
    "cek_prima(bilangan)\n"
   ]
  },
  {
   "cell_type": "code",
   "execution_count": 66,
   "id": "094e2a58-299c-45d5-8767-1da54c296497",
   "metadata": {},
   "outputs": [
    {
     "name": "stdout",
     "output_type": "stream",
     "text": [
      "Ordinal Number\n"
     ]
    },
    {
     "name": "stdin",
     "output_type": "stream",
     "text": [
      "masukkan angka:  1\n"
     ]
    },
    {
     "name": "stdout",
     "output_type": "stream",
     "text": [
      "(1, 'st')\n"
     ]
    },
    {
     "name": "stdin",
     "output_type": "stream",
     "text": [
      "masukkan angka:  2\n"
     ]
    },
    {
     "name": "stdout",
     "output_type": "stream",
     "text": [
      "(2, 'nd')\n"
     ]
    },
    {
     "name": "stdin",
     "output_type": "stream",
     "text": [
      "masukkan angka:  3\n"
     ]
    },
    {
     "name": "stdout",
     "output_type": "stream",
     "text": [
      "(3, 'rd')\n"
     ]
    },
    {
     "name": "stdin",
     "output_type": "stream",
     "text": [
      "masukkan angka:  4\n"
     ]
    },
    {
     "name": "stdout",
     "output_type": "stream",
     "text": [
      "(4, 'th')\n"
     ]
    },
    {
     "name": "stdin",
     "output_type": "stream",
     "text": [
      "masukkan angka:  23\n"
     ]
    },
    {
     "name": "stdout",
     "output_type": "stream",
     "text": [
      "(23, 'rd')\n"
     ]
    },
    {
     "name": "stdin",
     "output_type": "stream",
     "text": [
      "masukkan angka:  21\n"
     ]
    },
    {
     "name": "stdout",
     "output_type": "stream",
     "text": [
      "(21, 'st')\n"
     ]
    },
    {
     "name": "stdin",
     "output_type": "stream",
     "text": [
      "masukkan angka:  0\n"
     ]
    },
    {
     "name": "stdout",
     "output_type": "stream",
     "text": [
      "bye bye\n"
     ]
    }
   ],
   "source": [
    "def ordinal_suffix(number):\n",
    "    if 10 <= number % 100 <= 20:\n",
    "        return 'th'\n",
    "    else:\n",
    "        return {1: 'st', 2: 'nd', 3: 'rd'}.get(number % 10, 'th')\n",
    "\n",
    "print(\"Ordinal Number\")\n",
    "\n",
    "while True:\n",
    "    try:\n",
    "        number = int(input(\"masukkan angka: \"))\n",
    "        if number == 0:\n",
    "            print(\"bye bye\")\n",
    "            break\n",
    "        print(f\"({number}, '{ordinal_suffix(number)}')\")\n",
    "    except ValueError:\n",
    "        print(\"Input harus berupa angka!\")"
   ]
  },
  {
   "cell_type": "code",
   "execution_count": null,
   "id": "29045f98-a332-4bf4-996b-10146b318282",
   "metadata": {},
   "outputs": [],
   "source": []
  }
 ],
 "metadata": {
  "kernelspec": {
   "display_name": "Python 3 (ipykernel)",
   "language": "python",
   "name": "python3"
  },
  "language_info": {
   "codemirror_mode": {
    "name": "ipython",
    "version": 3
   },
   "file_extension": ".py",
   "mimetype": "text/x-python",
   "name": "python",
   "nbconvert_exporter": "python",
   "pygments_lexer": "ipython3",
   "version": "3.12.4"
  }
 },
 "nbformat": 4,
 "nbformat_minor": 5
}
